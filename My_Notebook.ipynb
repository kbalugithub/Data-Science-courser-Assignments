{
 "cells": [
  {
   "cell_type": "markdown",
   "id": "ba01587d-b90a-4aa9-958a-fd235a5805a7",
   "metadata": {},
   "source": [
    "# Data Science Tools and Ecosystem:"
   ]
  },
  {
   "cell_type": "markdown",
   "id": "9280877f-9307-40ff-94e5-a02afd616012",
   "metadata": {},
   "source": [
    "In this notebook, Data Science Tools and Ecosystem are summarizes"
   ]
  },
  {
   "cell_type": "markdown",
   "id": "ce2db1ff-e974-4ab9-83e7-1e9dcc3cba39",
   "metadata": {},
   "source": [
    "Some of the popular languages that Data Scientists use are:\n",
    "1. Python\n",
    "2. R \n",
    "3. SQL\n",
    "4. C++\n",
    "5. Java etc..;"
   ]
  },
  {
   "cell_type": "markdown",
   "id": "c44a9d09-3ae7-4cdd-a9f5-518628e25e6f",
   "metadata": {},
   "source": [
    "Some of the commonly used libraries used by Data Scientists include:\n",
    "1. TensorFlow.\n",
    "2. NumPy•\n",
    "3. SciPy.\n",
    "4. Pandas.\n",
    "5. Matplotlib.\n",
    "6. Keras.\n",
    "7. Scikit-Learn.\n",
    "8. PyTorch. etc..;"
   ]
  },
  {
   "cell_type": "markdown",
   "id": "53ef0291-a266-48ff-8e81-3b39f0be70dd",
   "metadata": {},
   "source": [
    "|Data Science Tools|\n",
    "|---|\n",
    "|SAS|\n",
    "|Apache Hadoop|\n",
    "|TensorFlow|"
   ]
  },
  {
   "cell_type": "markdown",
   "id": "9436f954-6e39-4d5d-b999-3c769622202f",
   "metadata": {},
   "source": [
    "## Below are a few examples of evaluating arithmetic expressions in Python:"
   ]
  },
  {
   "cell_type": "code",
   "execution_count": 2,
   "id": "c5d7086e-938a-4934-ac5d-31fe10f1fd9e",
   "metadata": {},
   "outputs": [
    {
     "data": {
      "text/plain": [
       "25"
      ]
     },
     "execution_count": 2,
     "metadata": {},
     "output_type": "execute_result"
    }
   ],
   "source": [
    "(4*5)+5"
   ]
  },
  {
   "cell_type": "code",
   "execution_count": 6,
   "id": "49b4cbe7-8269-48c7-adbd-1e5edac0bd14",
   "metadata": {},
   "outputs": [
    {
     "data": {
      "text/plain": [
       "3.3333333333333335"
      ]
     },
     "execution_count": 6,
     "metadata": {},
     "output_type": "execute_result"
    }
   ],
   "source": [
    "200/60"
   ]
  },
  {
   "cell_type": "markdown",
   "id": "3cafb141-4be0-4239-93ec-bbbd67b48420",
   "metadata": {},
   "source": [
    "__Objective__ \n",
    "* List tapular languages for Data science\n",
    "* List popular libraries for Data Science\n",
    "* List of Well known Data Science Tools\n",
    "* How to Provide comments in the cell"
   ]
  },
  {
   "cell_type": "markdown",
   "id": "a34c72a4-0b23-422d-b185-c25b77609cbe",
   "metadata": {},
   "source": [
    "## Author\n",
    "K.Baladithya"
   ]
  }
 ],
 "metadata": {
  "kernelspec": {
   "display_name": "Python 3 (ipykernel)",
   "language": "python",
   "name": "python3"
  },
  "language_info": {
   "codemirror_mode": {
    "name": "ipython",
    "version": 3
   },
   "file_extension": ".py",
   "mimetype": "text/x-python",
   "name": "python",
   "nbconvert_exporter": "python",
   "pygments_lexer": "ipython3",
   "version": "3.11.9"
  }
 },
 "nbformat": 4,
 "nbformat_minor": 5
}
